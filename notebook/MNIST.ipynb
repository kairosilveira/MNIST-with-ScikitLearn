{
 "cells": [
  {
   "cell_type": "markdown",
   "id": "66fcd9db",
   "metadata": {},
   "source": [
    "# MNIST - Introduction\n",
    "\n",
    "The MNIST is a large handwritten digit dataset commonly used to train various image processing systems. In this project I apply a few techniques to train a eficient machine learnin model to create a submission for [kaggle competition](https://www.kaggle.com/competitions/digit-recognizer).\n",
    "The objective is to perform few techniques and algorithms such as PCA for dimensionality reduction and an ensemble classification algorithm. I will also try some digits that I handwrote myself in the final model.\n",
    "___"
   ]
  },
  {
   "cell_type": "markdown",
   "id": "8d092038",
   "metadata": {},
   "source": [
    "## Data Understanding"
   ]
  },
  {
   "cell_type": "code",
   "execution_count": 1,
   "id": "9880e094",
   "metadata": {},
   "outputs": [],
   "source": [
    "import os\n",
    "import pandas as pd\n",
    "import numpy as np\n",
    "import matplotlib.pyplot as plt\n",
    "import matplotlib as mpl"
   ]
  },
  {
   "cell_type": "code",
   "execution_count": 2,
   "id": "23f4e537",
   "metadata": {},
   "outputs": [],
   "source": [
    "#this func gets a file path, it will be very useful to browse directories\n",
    "def get_file_path(file, dir_name):\n",
    "    project_dir = os.path.dirname(os.path.dirname(os.path.abspath(\"-\")))\n",
    "    data_dir = os.path.join(project_dir, dir_name)\n",
    "    file_path = os.path.join(data_dir, file)\n",
    "    return file_path\n",
    "    \n",
    "file_path = get_file_path(\"train.csv\", \"original data\")"
   ]
  },
  {
   "cell_type": "code",
   "execution_count": 3,
   "id": "2410bd0f",
   "metadata": {},
   "outputs": [
    {
     "data": {
      "text/html": [
       "<div>\n",
       "<style scoped>\n",
       "    .dataframe tbody tr th:only-of-type {\n",
       "        vertical-align: middle;\n",
       "    }\n",
       "\n",
       "    .dataframe tbody tr th {\n",
       "        vertical-align: top;\n",
       "    }\n",
       "\n",
       "    .dataframe thead th {\n",
       "        text-align: right;\n",
       "    }\n",
       "</style>\n",
       "<table border=\"1\" class=\"dataframe\">\n",
       "  <thead>\n",
       "    <tr style=\"text-align: right;\">\n",
       "      <th></th>\n",
       "      <th>label</th>\n",
       "      <th>pixel0</th>\n",
       "      <th>pixel1</th>\n",
       "      <th>pixel2</th>\n",
       "      <th>pixel3</th>\n",
       "      <th>pixel4</th>\n",
       "      <th>pixel5</th>\n",
       "      <th>pixel6</th>\n",
       "      <th>pixel7</th>\n",
       "      <th>pixel8</th>\n",
       "      <th>...</th>\n",
       "      <th>pixel774</th>\n",
       "      <th>pixel775</th>\n",
       "      <th>pixel776</th>\n",
       "      <th>pixel777</th>\n",
       "      <th>pixel778</th>\n",
       "      <th>pixel779</th>\n",
       "      <th>pixel780</th>\n",
       "      <th>pixel781</th>\n",
       "      <th>pixel782</th>\n",
       "      <th>pixel783</th>\n",
       "    </tr>\n",
       "  </thead>\n",
       "  <tbody>\n",
       "    <tr>\n",
       "      <th>0</th>\n",
       "      <td>1</td>\n",
       "      <td>0</td>\n",
       "      <td>0</td>\n",
       "      <td>0</td>\n",
       "      <td>0</td>\n",
       "      <td>0</td>\n",
       "      <td>0</td>\n",
       "      <td>0</td>\n",
       "      <td>0</td>\n",
       "      <td>0</td>\n",
       "      <td>...</td>\n",
       "      <td>0</td>\n",
       "      <td>0</td>\n",
       "      <td>0</td>\n",
       "      <td>0</td>\n",
       "      <td>0</td>\n",
       "      <td>0</td>\n",
       "      <td>0</td>\n",
       "      <td>0</td>\n",
       "      <td>0</td>\n",
       "      <td>0</td>\n",
       "    </tr>\n",
       "    <tr>\n",
       "      <th>1</th>\n",
       "      <td>0</td>\n",
       "      <td>0</td>\n",
       "      <td>0</td>\n",
       "      <td>0</td>\n",
       "      <td>0</td>\n",
       "      <td>0</td>\n",
       "      <td>0</td>\n",
       "      <td>0</td>\n",
       "      <td>0</td>\n",
       "      <td>0</td>\n",
       "      <td>...</td>\n",
       "      <td>0</td>\n",
       "      <td>0</td>\n",
       "      <td>0</td>\n",
       "      <td>0</td>\n",
       "      <td>0</td>\n",
       "      <td>0</td>\n",
       "      <td>0</td>\n",
       "      <td>0</td>\n",
       "      <td>0</td>\n",
       "      <td>0</td>\n",
       "    </tr>\n",
       "    <tr>\n",
       "      <th>2</th>\n",
       "      <td>1</td>\n",
       "      <td>0</td>\n",
       "      <td>0</td>\n",
       "      <td>0</td>\n",
       "      <td>0</td>\n",
       "      <td>0</td>\n",
       "      <td>0</td>\n",
       "      <td>0</td>\n",
       "      <td>0</td>\n",
       "      <td>0</td>\n",
       "      <td>...</td>\n",
       "      <td>0</td>\n",
       "      <td>0</td>\n",
       "      <td>0</td>\n",
       "      <td>0</td>\n",
       "      <td>0</td>\n",
       "      <td>0</td>\n",
       "      <td>0</td>\n",
       "      <td>0</td>\n",
       "      <td>0</td>\n",
       "      <td>0</td>\n",
       "    </tr>\n",
       "    <tr>\n",
       "      <th>3</th>\n",
       "      <td>4</td>\n",
       "      <td>0</td>\n",
       "      <td>0</td>\n",
       "      <td>0</td>\n",
       "      <td>0</td>\n",
       "      <td>0</td>\n",
       "      <td>0</td>\n",
       "      <td>0</td>\n",
       "      <td>0</td>\n",
       "      <td>0</td>\n",
       "      <td>...</td>\n",
       "      <td>0</td>\n",
       "      <td>0</td>\n",
       "      <td>0</td>\n",
       "      <td>0</td>\n",
       "      <td>0</td>\n",
       "      <td>0</td>\n",
       "      <td>0</td>\n",
       "      <td>0</td>\n",
       "      <td>0</td>\n",
       "      <td>0</td>\n",
       "    </tr>\n",
       "    <tr>\n",
       "      <th>4</th>\n",
       "      <td>0</td>\n",
       "      <td>0</td>\n",
       "      <td>0</td>\n",
       "      <td>0</td>\n",
       "      <td>0</td>\n",
       "      <td>0</td>\n",
       "      <td>0</td>\n",
       "      <td>0</td>\n",
       "      <td>0</td>\n",
       "      <td>0</td>\n",
       "      <td>...</td>\n",
       "      <td>0</td>\n",
       "      <td>0</td>\n",
       "      <td>0</td>\n",
       "      <td>0</td>\n",
       "      <td>0</td>\n",
       "      <td>0</td>\n",
       "      <td>0</td>\n",
       "      <td>0</td>\n",
       "      <td>0</td>\n",
       "      <td>0</td>\n",
       "    </tr>\n",
       "  </tbody>\n",
       "</table>\n",
       "<p>5 rows × 785 columns</p>\n",
       "</div>"
      ],
      "text/plain": [
       "   label  pixel0  pixel1  pixel2  pixel3  pixel4  pixel5  pixel6  pixel7  \\\n",
       "0      1       0       0       0       0       0       0       0       0   \n",
       "1      0       0       0       0       0       0       0       0       0   \n",
       "2      1       0       0       0       0       0       0       0       0   \n",
       "3      4       0       0       0       0       0       0       0       0   \n",
       "4      0       0       0       0       0       0       0       0       0   \n",
       "\n",
       "   pixel8  ...  pixel774  pixel775  pixel776  pixel777  pixel778  pixel779  \\\n",
       "0       0  ...         0         0         0         0         0         0   \n",
       "1       0  ...         0         0         0         0         0         0   \n",
       "2       0  ...         0         0         0         0         0         0   \n",
       "3       0  ...         0         0         0         0         0         0   \n",
       "4       0  ...         0         0         0         0         0         0   \n",
       "\n",
       "   pixel780  pixel781  pixel782  pixel783  \n",
       "0         0         0         0         0  \n",
       "1         0         0         0         0  \n",
       "2         0         0         0         0  \n",
       "3         0         0         0         0  \n",
       "4         0         0         0         0  \n",
       "\n",
       "[5 rows x 785 columns]"
      ]
     },
     "execution_count": 3,
     "metadata": {},
     "output_type": "execute_result"
    }
   ],
   "source": [
    "df = pd.read_csv(file_path)\n",
    "df.head()"
   ]
  },
  {
   "cell_type": "code",
   "execution_count": 4,
   "id": "ad7b69ff",
   "metadata": {},
   "outputs": [],
   "source": [
    "X = df.drop([\"label\"], axis = 1).values\n",
    "y = df[\"label\"].values"
   ]
  },
  {
   "cell_type": "code",
   "execution_count": 5,
   "id": "21e1a61a",
   "metadata": {},
   "outputs": [
    {
     "data": {
      "text/plain": [
       "((42000, 784), (42000,))"
      ]
     },
     "execution_count": 5,
     "metadata": {},
     "output_type": "execute_result"
    }
   ],
   "source": [
    " X.shape, y.shape"
   ]
  },
  {
   "cell_type": "markdown",
   "id": "a016e024",
   "metadata": {},
   "source": [
    "Each feature of the dataset is a pixel, and there are 42000 instances, we'll may have a problem with memory to mess with this dataset.\n",
    "Since they are images it is possible to visualize them. Let's see some exemples:"
   ]
  },
  {
   "cell_type": "code",
   "execution_count": 6,
   "id": "08ad18d0",
   "metadata": {},
   "outputs": [
    {
     "data": {
      "image/png": "[encoded data removed]",
      "text/plain": [
       "<Figure size 432x288 with 1 Axes>"
      ]
     },
     "metadata": {
      "needs_background": "light"
     },
     "output_type": "display_data"
    }
   ],
   "source": [
    "plt.imshow(X[3].reshape(28,28), cmap = mpl.cm.binary)\n",
    "plt.title(\"number \"+str(y[3]))\n",
    "plt.show()"
   ]
  },
  {
   "cell_type": "markdown",
   "id": "3fba3dc5",
   "metadata": {},
   "source": [
    "It was necessary to reshape X[3] to convert the array of pixels into a matrix so that it could be visualized."
   ]
  },
  {
   "cell_type": "markdown",
   "id": "c1f970e7",
   "metadata": {},
   "source": [
    "## Data Preparation\n",
    "First let's scale the data before peform a  Principal Component Analisys."
   ]
  },
  {
   "cell_type": "code",
   "execution_count": 7,
   "id": "1a26ed5b",
   "metadata": {},
   "outputs": [
    {
     "data": {
      "text/plain": [
       "(42000, 320)"
      ]
     },
     "execution_count": 7,
     "metadata": {},
     "output_type": "execute_result"
    }
   ],
   "source": [
    "from sklearn.preprocessing import StandardScaler\n",
    "from sklearn.decomposition import PCA\n",
    "scaler = StandardScaler()\n",
    "X = scaler.fit_transform(X)\n",
    "\n",
    "pca = PCA(n_components=0.95)\n",
    "X_reduced = pca.fit_transform(X)\n",
    "X_reduced.shape"
   ]
  },
  {
   "cell_type": "markdown",
   "id": "e7fbc644",
   "metadata": {},
   "source": [
    "Great!\n",
    "With PCA it was possible to reduce  the number of features from 784 to 320 preserving 95% of the information(variance). Let's now start modeling.\n",
    "___"
   ]
  },
  {
   "cell_type": "markdown",
   "id": "51eba610",
   "metadata": {},
   "source": [
    "## Modeling\n",
    "I will now build a Pipeline with the data preparation steps.\n",
    "\n",
    "Three algorithms are going to be used: KNN, LogisticRegression and RandomForestClassifier. \n",
    "They'll be validated using k-fold cross validation."
   ]
  },
  {
   "cell_type": "code",
   "execution_count": 45,
   "id": "6b56c329",
   "metadata": {},
   "outputs": [],
   "source": [
    "from sklearn.pipeline import Pipeline\n",
    "\n",
    "from sklearn.neighbors import KNeighborsClassifier\n",
    "from sklearn.linear_model import LogisticRegression\n",
    "from sklearn.ensemble import RandomForestClassifier\n",
    "\n",
    "from sklearn.model_selection import cross_val_score\n"
   ]
  },
  {
   "cell_type": "code",
   "execution_count": 47,
   "id": "ebdb44c9",
   "metadata": {},
   "outputs": [
    {
     "name": "stdout",
     "output_type": "stream",
     "text": [
      "Accuracy: 0.935 (0.001)\n"
     ]
    }
   ],
   "source": [
    "\n",
    "pipeline_knn = Pipeline(steps=[\n",
    "    (\"scaler\", scaler),\n",
    "    (\"pca\", pca),\n",
    "    (\"model\", KNeighborsClassifier( n_neighbors=10, n_jobs=-1))\n",
    "])\n",
    "\n",
    "scores = cross_val_score(pipeline_knn,X,y,scoring='accuracy',cv=3, n_jobs=-1)\n",
    "print('Accuracy: %.3f (%.3f)' % (np.mean(scores), np.std(scores)))\n"
   ]
  },
  {
   "cell_type": "code",
   "execution_count": 18,
   "id": "acf9543e",
   "metadata": {},
   "outputs": [
    {
     "name": "stdout",
     "output_type": "stream",
     "text": [
      "Accuracy: 0.916 (0.001)\n"
     ]
    }
   ],
   "source": [
    "pipeline_lr = Pipeline(steps=[\n",
    "    (\"scaler\", scaler),\n",
    "    (\"pca\", pca),\n",
    "    (\"model\", LogisticRegression(multi_class=\"multinomial\",solver=\"lbfgs\", C=1, max_iter=1000))\n",
    "])\n",
    "\n",
    "scores = cross_val_score(pipeline_lr,X,y,scoring='accuracy',cv=3, n_jobs=-1)\n",
    "print('Accuracy: %.3f (%.3f)' % (np.mean(scores), np.std(scores)))"
   ]
  },
  {
   "cell_type": "code",
   "execution_count": 20,
   "id": "df3f7c97",
   "metadata": {},
   "outputs": [
    {
     "name": "stdout",
     "output_type": "stream",
     "text": [
      "Accuracy: 0.928 (0.001)\n"
     ]
    }
   ],
   "source": [
    "pipeline_rf = Pipeline(steps=[\n",
    "    (\"scaler\", scaler),\n",
    "    (\"pca\", pca),\n",
    "    (\"model\", RandomForestClassifier(max_depth=300))\n",
    "])\n",
    "\n",
    "scores = cross_val_score(pipeline_rf,X,y,scoring='accuracy',cv=3, n_jobs=-1)\n",
    "print('Accuracy: %.3f (%.3f)' % (np.mean(scores), np.std(scores)))"
   ]
  },
  {
   "cell_type": "markdown",
   "id": "6a977c9d",
   "metadata": {},
   "source": [
    "We'll also train two ensemble models, with voting *soft* (uses the probabilities) and *hard*(uses the classification)."
   ]
  },
  {
   "cell_type": "code",
   "execution_count": 49,
   "id": "7d9a96c3",
   "metadata": {},
   "outputs": [
    {
     "name": "stdout",
     "output_type": "stream",
     "text": [
      "Accuracy: 0.944 (0.001)\n"
     ]
    }
   ],
   "source": [
    "from sklearn.ensemble import VotingClassifier\n",
    "\n",
    "voting_clf_soft = VotingClassifier(\n",
    "estimators=[('SVC', pipeline_knn), \n",
    "('LogisticRegression', pipeline_lr), \n",
    "('Forest', pipeline_rf)],\n",
    "voting='soft')\n",
    "\n",
    "scores = cross_val_score(voting_clf_soft,X,y,scoring='accuracy',cv=3, n_jobs=-1)\n",
    "print('Accuracy: %.3f (%.3f)' % (np.mean(scores), np.std(scores)))"
   ]
  },
  {
   "cell_type": "code",
   "execution_count": 48,
   "id": "64a4f69c",
   "metadata": {},
   "outputs": [
    {
     "name": "stdout",
     "output_type": "stream",
     "text": [
      "Accuracy: 0.938 (0.001)\n"
     ]
    }
   ],
   "source": [
    "voting_clf_hard = VotingClassifier(\n",
    "estimators=[('SVC', pipeline_knn), \n",
    "('LogisticRegression', pipeline_lr), \n",
    "('Forest', pipeline_rf)],\n",
    "voting='hard')\n",
    "\n",
    "scores = cross_val_score(voting_clf_hard,X,y,scoring='accuracy',cv=3, n_jobs=-1)\n",
    "print('Accuracy: %.3f (%.3f)' % (np.mean(scores), np.std(scores)))"
   ]
  },
  {
   "cell_type": "markdown",
   "id": "11d65e37",
   "metadata": {},
   "source": [
    "## Submissions\n",
    "Once all models are avaliated with cross validation we can start to work on the submissions to kaggle competition."
   ]
  },
  {
   "cell_type": "code",
   "execution_count": 39,
   "id": "881dde28",
   "metadata": {},
   "outputs": [],
   "source": [
    "def create_submission(model, filename):\n",
    "    test_path = get_file_path(\"test.csv\", \"original data\")\n",
    "    df_test = pd.read_csv(test_path)\n",
    "    X_test = df_test.values\n",
    "    yhat = model.predict(X_test)\n",
    "\n",
    "    imageid = [i for i in range(1,df_test.shape[0]+1)]\n",
    "    dic_sub={\"ImageId\":imageid,\"Label\":yhat}    \n",
    "\n",
    "    df_submission = pd.DataFrame(dic_sub)\n",
    "    submission_path = os.path.join(get_file_path(\"\", \"submissions\"),filename)\n",
    "    df_submission.to_csv(submission_path, index = False)"
   ]
  },
  {
   "cell_type": "code",
   "execution_count": null,
   "id": "09592f08",
   "metadata": {},
   "outputs": [],
   "source": [
    "#fitting all models\n",
    "pipeline_knn.fit(X,y)\n",
    "pipeline_lr.fit(X,y)\n",
    "pipeline_rf.fit(X,y)\n",
    "voting_clf_soft.fit(X,y)\n",
    "voting_clf_hard.fit(X,y)"
   ]
  },
  {
   "cell_type": "code",
   "execution_count": 40,
   "id": "d8bef63f",
   "metadata": {},
   "outputs": [],
   "source": [
    "#creating the submissions\n",
    "create_submission(pipeline_knn,\"knn_submission.csv\")\n",
    "create_submission(pipeline_lr,\"LogisticiRegression_submission.csv\")\n",
    "create_submission(pipeline_rf,\"RandomForestClassifier_submission.csv\")\n",
    "create_submission(voting_clf_soft,\"ensemble_soft_submission.csv\")\n",
    "create_submission(voting_clf_hard,\"ensemble_hard_submission.csv\")"
   ]
  },
  {
   "cell_type": "markdown",
   "id": "2bbe325e",
   "metadata": {},
   "source": [
    "I got around 80% of accuracy with these models when they were submitted to kaggle. Let's try another model without apllying dimensionality reduction."
   ]
  },
  {
   "cell_type": "code",
   "execution_count": 54,
   "id": "e8595f6f",
   "metadata": {},
   "outputs": [
    {
     "name": "stdout",
     "output_type": "stream",
     "text": [
      "Accuracy =  0.9626984126984127\n"
     ]
    }
   ],
   "source": [
    "from sklearn.model_selection import train_test_split\n",
    "from sklearn.metrics import accuracy_score\n",
    "\n",
    "model = Pipeline(steps=[(\"scaler\",StandardScaler()), \n",
    "                        (\"rand forest\", RandomForestClassifier())])\n",
    "\n",
    "X_train, X_test, y_train, y_test = train_test_split(X,y, test_size=0.3, random_state=42)\n",
    "\n",
    "model.fit(X_train, y_train)\n",
    "yhat = model.predict(X_test)\n",
    "print(\"Accuracy = \",accuracy_score(y_test, yhat))"
   ]
  },
  {
   "cell_type": "markdown",
   "id": "bf53ffe8",
   "metadata": {},
   "source": [
    "This model got 96.5% of accuracy!\n",
    "This can indicate that the dimensionality reduction is causing information loss, or the models are not complex enough to improve the predictions. \n",
    "Note that it is very hard to tune the hyperparameters with scikitlearn in this dataset since it has a lot of features and instances. It takes too long to train and predict(and also a lot of memory), perhaps the best approach is to find another framework capable of handling it better.\n",
    "___"
   ]
  },
  {
   "cell_type": "markdown",
   "metadata": {},
   "source": [
    "## Bonus!\n",
    "\n",
    "Now lets try some instances that I handwrote in a paper and digitaly and see if the model can classify them."
   ]
  },
  {
   "cell_type": "code",
   "execution_count": 94,
   "id": "583fd57f",
   "metadata": {},
   "outputs": [],
   "source": [
    "#This loads the images from the imgtest folder\n",
    "from PIL import Image\n",
    "import PIL.ImageOps \n",
    "\n",
    "imgs = []\n",
    "for i in range(10):\n",
    "    str_file = \"img\"+str(i)+\".jpg\"\n",
    "    file_name = get_file_path(str_file, \"imgtest\")\n",
    "    file = Image.open(file_name)\n",
    "    imgs.append((file))\n",
    "\n",
    "\n",
    " \n",
    "pixel_list = [np.array(img)[:,:,0] for img in imgs] # converts the img to array numpy(pixels)\n"
   ]
  },
  {
   "cell_type": "markdown",
   "id": "9148971b",
   "metadata": {},
   "source": [
    "Note that all images were prepared before being loaded, i.e. they were made 28x28"
   ]
  },
  {
   "cell_type": "code",
   "execution_count": 100,
   "id": "bf4c5b9b",
   "metadata": {},
   "outputs": [
    {
     "data": {
      "text/html": [
       "<div>\n",
       "<style scoped>\n",
       "    .dataframe tbody tr th:only-of-type {\n",
       "        vertical-align: middle;\n",
       "    }\n",
       "\n",
       "    .dataframe tbody tr th {\n",
       "        vertical-align: top;\n",
       "    }\n",
       "\n",
       "    .dataframe thead th {\n",
       "        text-align: right;\n",
       "    }\n",
       "</style>\n",
       "<table border=\"1\" class=\"dataframe\">\n",
       "  <thead>\n",
       "    <tr style=\"text-align: right;\">\n",
       "      <th></th>\n",
       "      <th>0</th>\n",
       "      <th>1</th>\n",
       "      <th>2</th>\n",
       "      <th>3</th>\n",
       "      <th>4</th>\n",
       "      <th>5</th>\n",
       "      <th>6</th>\n",
       "      <th>7</th>\n",
       "      <th>8</th>\n",
       "      <th>9</th>\n",
       "      <th>...</th>\n",
       "      <th>774</th>\n",
       "      <th>775</th>\n",
       "      <th>776</th>\n",
       "      <th>777</th>\n",
       "      <th>778</th>\n",
       "      <th>779</th>\n",
       "      <th>780</th>\n",
       "      <th>781</th>\n",
       "      <th>782</th>\n",
       "      <th>783</th>\n",
       "    </tr>\n",
       "  </thead>\n",
       "  <tbody>\n",
       "    <tr>\n",
       "      <th>0</th>\n",
       "      <td>-1</td>\n",
       "      <td>-1</td>\n",
       "      <td>-1</td>\n",
       "      <td>-1</td>\n",
       "      <td>-1</td>\n",
       "      <td>-1</td>\n",
       "      <td>-1</td>\n",
       "      <td>-1</td>\n",
       "      <td>-1</td>\n",
       "      <td>-1</td>\n",
       "      <td>...</td>\n",
       "      <td>-1</td>\n",
       "      <td>-1</td>\n",
       "      <td>-1</td>\n",
       "      <td>-1</td>\n",
       "      <td>-1</td>\n",
       "      <td>-1</td>\n",
       "      <td>-1</td>\n",
       "      <td>-1</td>\n",
       "      <td>-1</td>\n",
       "      <td>-1</td>\n",
       "    </tr>\n",
       "    <tr>\n",
       "      <th>1</th>\n",
       "      <td>-2</td>\n",
       "      <td>-1</td>\n",
       "      <td>-2</td>\n",
       "      <td>-1</td>\n",
       "      <td>-1</td>\n",
       "      <td>-3</td>\n",
       "      <td>-1</td>\n",
       "      <td>-1</td>\n",
       "      <td>-2</td>\n",
       "      <td>-1</td>\n",
       "      <td>...</td>\n",
       "      <td>-1</td>\n",
       "      <td>-1</td>\n",
       "      <td>-1</td>\n",
       "      <td>-1</td>\n",
       "      <td>-1</td>\n",
       "      <td>-1</td>\n",
       "      <td>-1</td>\n",
       "      <td>-1</td>\n",
       "      <td>-1</td>\n",
       "      <td>-1</td>\n",
       "    </tr>\n",
       "    <tr>\n",
       "      <th>2</th>\n",
       "      <td>-1</td>\n",
       "      <td>-1</td>\n",
       "      <td>-1</td>\n",
       "      <td>-2</td>\n",
       "      <td>-2</td>\n",
       "      <td>-3</td>\n",
       "      <td>-1</td>\n",
       "      <td>-2</td>\n",
       "      <td>-1</td>\n",
       "      <td>-1</td>\n",
       "      <td>...</td>\n",
       "      <td>-1</td>\n",
       "      <td>-1</td>\n",
       "      <td>-1</td>\n",
       "      <td>-1</td>\n",
       "      <td>-1</td>\n",
       "      <td>-1</td>\n",
       "      <td>-1</td>\n",
       "      <td>-1</td>\n",
       "      <td>-1</td>\n",
       "      <td>-1</td>\n",
       "    </tr>\n",
       "    <tr>\n",
       "      <th>3</th>\n",
       "      <td>-1</td>\n",
       "      <td>-1</td>\n",
       "      <td>-2</td>\n",
       "      <td>-3</td>\n",
       "      <td>-1</td>\n",
       "      <td>-1</td>\n",
       "      <td>-2</td>\n",
       "      <td>-1</td>\n",
       "      <td>-1</td>\n",
       "      <td>-1</td>\n",
       "      <td>...</td>\n",
       "      <td>-3</td>\n",
       "      <td>-1</td>\n",
       "      <td>-1</td>\n",
       "      <td>-1</td>\n",
       "      <td>-1</td>\n",
       "      <td>-2</td>\n",
       "      <td>-1</td>\n",
       "      <td>-1</td>\n",
       "      <td>-1</td>\n",
       "      <td>-1</td>\n",
       "    </tr>\n",
       "    <tr>\n",
       "      <th>4</th>\n",
       "      <td>-1</td>\n",
       "      <td>-1</td>\n",
       "      <td>-1</td>\n",
       "      <td>-1</td>\n",
       "      <td>-3</td>\n",
       "      <td>-1</td>\n",
       "      <td>-1</td>\n",
       "      <td>-1</td>\n",
       "      <td>-1</td>\n",
       "      <td>-1</td>\n",
       "      <td>...</td>\n",
       "      <td>-1</td>\n",
       "      <td>-1</td>\n",
       "      <td>-1</td>\n",
       "      <td>-1</td>\n",
       "      <td>-1</td>\n",
       "      <td>-1</td>\n",
       "      <td>-1</td>\n",
       "      <td>-1</td>\n",
       "      <td>-1</td>\n",
       "      <td>-1</td>\n",
       "    </tr>\n",
       "  </tbody>\n",
       "</table>\n",
       "<p>5 rows × 784 columns</p>\n",
       "</div>"
      ],
      "text/plain": [
       "   0    1    2    3    4    5    6    7    8    9    ...  774  775  776  777  \\\n",
       "0   -1   -1   -1   -1   -1   -1   -1   -1   -1   -1  ...   -1   -1   -1   -1   \n",
       "1   -2   -1   -2   -1   -1   -3   -1   -1   -2   -1  ...   -1   -1   -1   -1   \n",
       "2   -1   -1   -1   -2   -2   -3   -1   -2   -1   -1  ...   -1   -1   -1   -1   \n",
       "3   -1   -1   -2   -3   -1   -1   -2   -1   -1   -1  ...   -3   -1   -1   -1   \n",
       "4   -1   -1   -1   -1   -3   -1   -1   -1   -1   -1  ...   -1   -1   -1   -1   \n",
       "\n",
       "   778  779  780  781  782  783  \n",
       "0   -1   -1   -1   -1   -1   -1  \n",
       "1   -1   -1   -1   -1   -1   -1  \n",
       "2   -1   -1   -1   -1   -1   -1  \n",
       "3   -1   -2   -1   -1   -1   -1  \n",
       "4   -1   -1   -1   -1   -1   -1  \n",
       "\n",
       "[5 rows x 784 columns]"
      ]
     },
     "execution_count": 100,
     "metadata": {},
     "output_type": "execute_result"
    }
   ],
   "source": [
    "#reshaping the array to create 784 features (28x28)\n",
    "reshaped_pixels = [pixel_matrix.reshape(784) for pixel_matrix in pixel_list ]\n",
    "input_data = pd.DataFrame(reshaped_pixels)\n",
    "input_data.head()"
   ]
  },
  {
   "cell_type": "code",
   "execution_count": 101,
   "id": "855c0d29",
   "metadata": {},
   "outputs": [
    {
     "name": "stdout",
     "output_type": "stream",
     "text": [
      "Accuracy: 0.6\n",
      "[1 2 3 4 5 6 7 1 2 3] <- labels\n",
      "[4 2 3 4 5 3 7 1 1 1] <- predictions\n"
     ]
    }
   ],
   "source": [
    "X_input = input_data.values  #features\n",
    "y_input = np.array([1,2,3,4,5,6,7,1,2,3]) #labels\n",
    "model.fit(X,y) #fitting with all avaliable data\n",
    "yhat_input = model.predict(X_input)\n",
    "print(\"Accuracy:\", accuracy_score(y_input, yhat_input))\n",
    "print(y_input, \"<- labels\") \n",
    "print(yhat_input, \"<- predictions\")"
   ]
  }
 ],
 "metadata": {
  "kernelspec": {
   "display_name": "Python 3 (ipykernel)",
   "language": "python",
   "name": "python3"
  },
  "language_info": {
   "codemirror_mode": {
    "name": "ipython",
    "version": 3
   },
   "file_extension": ".py",
   "mimetype": "text/x-python",
   "name": "python",
   "nbconvert_exporter": "python",
   "pygments_lexer": "ipython3",
   "version": "3.9.7"
  }
 },
 "nbformat": 4,
 "nbformat_minor": 5
}
