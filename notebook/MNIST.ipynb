{
 "cells": [
  {
   "cell_type": "markdown",
   "id": "66fcd9db",
   "metadata": {},
   "source": [
    "# MNIST - Introduction\n",
    "\n",
    "The MNIST is a large handwritten digit dataset commonly used to train various image processing systems. In this project I apply a few techniques to train a eficient machine learnin model, the goal is to apply techniques of dimensionality reduction and Bayesian Optimization for quicker hyperparameter tuning.\n",
    "\n",
    "___"
   ]
  },
  {
   "cell_type": "markdown",
   "id": "8d092038",
   "metadata": {},
   "source": [
    "## Data Understanding"
   ]
  },
  {
   "cell_type": "code",
   "execution_count": 232,
   "id": "9880e094",
   "metadata": {},
   "outputs": [],
   "source": [
    "import os\n",
    "import pickle\n",
    "import pandas as pd\n",
    "import numpy as np\n",
    "import matplotlib.pyplot as plt\n",
    "import matplotlib as mpl\n",
    "import warnings\n",
    "warnings.filterwarnings('ignore')"
   ]
  },
  {
   "cell_type": "code",
   "execution_count": 233,
   "id": "23f4e537",
   "metadata": {},
   "outputs": [],
   "source": [
    "#this func gets a file path, it will be very useful to browse directories\n",
    "def get_file_path(file, dir_name):\n",
    "    project_dir = os.path.dirname(os.path.dirname(os.path.abspath(\"-\")))\n",
    "    data_dir = os.path.join(project_dir, dir_name)\n",
    "    file_path = os.path.join(data_dir, file)\n",
    "    return file_path\n",
    "    \n",
    "file_path = get_file_path(\"train.csv\", \"original data\")"
   ]
  },
  {
   "cell_type": "code",
   "execution_count": 234,
   "id": "2410bd0f",
   "metadata": {},
   "outputs": [
    {
     "data": {
      "text/html": [
       "<div>\n",
       "<style scoped>\n",
       "    .dataframe tbody tr th:only-of-type {\n",
       "        vertical-align: middle;\n",
       "    }\n",
       "\n",
       "    .dataframe tbody tr th {\n",
       "        vertical-align: top;\n",
       "    }\n",
       "\n",
       "    .dataframe thead th {\n",
       "        text-align: right;\n",
       "    }\n",
       "</style>\n",
       "<table border=\"1\" class=\"dataframe\">\n",
       "  <thead>\n",
       "    <tr style=\"text-align: right;\">\n",
       "      <th></th>\n",
       "      <th>label</th>\n",
       "      <th>1x1</th>\n",
       "      <th>1x2</th>\n",
       "      <th>1x3</th>\n",
       "      <th>1x4</th>\n",
       "      <th>1x5</th>\n",
       "      <th>1x6</th>\n",
       "      <th>1x7</th>\n",
       "      <th>1x8</th>\n",
       "      <th>1x9</th>\n",
       "      <th>...</th>\n",
       "      <th>28x19</th>\n",
       "      <th>28x20</th>\n",
       "      <th>28x21</th>\n",
       "      <th>28x22</th>\n",
       "      <th>28x23</th>\n",
       "      <th>28x24</th>\n",
       "      <th>28x25</th>\n",
       "      <th>28x26</th>\n",
       "      <th>28x27</th>\n",
       "      <th>28x28</th>\n",
       "    </tr>\n",
       "  </thead>\n",
       "  <tbody>\n",
       "    <tr>\n",
       "      <th>0</th>\n",
       "      <td>5</td>\n",
       "      <td>0</td>\n",
       "      <td>0</td>\n",
       "      <td>0</td>\n",
       "      <td>0</td>\n",
       "      <td>0</td>\n",
       "      <td>0</td>\n",
       "      <td>0</td>\n",
       "      <td>0</td>\n",
       "      <td>0</td>\n",
       "      <td>...</td>\n",
       "      <td>0</td>\n",
       "      <td>0</td>\n",
       "      <td>0</td>\n",
       "      <td>0</td>\n",
       "      <td>0</td>\n",
       "      <td>0</td>\n",
       "      <td>0</td>\n",
       "      <td>0</td>\n",
       "      <td>0</td>\n",
       "      <td>0</td>\n",
       "    </tr>\n",
       "    <tr>\n",
       "      <th>1</th>\n",
       "      <td>0</td>\n",
       "      <td>0</td>\n",
       "      <td>0</td>\n",
       "      <td>0</td>\n",
       "      <td>0</td>\n",
       "      <td>0</td>\n",
       "      <td>0</td>\n",
       "      <td>0</td>\n",
       "      <td>0</td>\n",
       "      <td>0</td>\n",
       "      <td>...</td>\n",
       "      <td>0</td>\n",
       "      <td>0</td>\n",
       "      <td>0</td>\n",
       "      <td>0</td>\n",
       "      <td>0</td>\n",
       "      <td>0</td>\n",
       "      <td>0</td>\n",
       "      <td>0</td>\n",
       "      <td>0</td>\n",
       "      <td>0</td>\n",
       "    </tr>\n",
       "    <tr>\n",
       "      <th>2</th>\n",
       "      <td>4</td>\n",
       "      <td>0</td>\n",
       "      <td>0</td>\n",
       "      <td>0</td>\n",
       "      <td>0</td>\n",
       "      <td>0</td>\n",
       "      <td>0</td>\n",
       "      <td>0</td>\n",
       "      <td>0</td>\n",
       "      <td>0</td>\n",
       "      <td>...</td>\n",
       "      <td>0</td>\n",
       "      <td>0</td>\n",
       "      <td>0</td>\n",
       "      <td>0</td>\n",
       "      <td>0</td>\n",
       "      <td>0</td>\n",
       "      <td>0</td>\n",
       "      <td>0</td>\n",
       "      <td>0</td>\n",
       "      <td>0</td>\n",
       "    </tr>\n",
       "    <tr>\n",
       "      <th>3</th>\n",
       "      <td>1</td>\n",
       "      <td>0</td>\n",
       "      <td>0</td>\n",
       "      <td>0</td>\n",
       "      <td>0</td>\n",
       "      <td>0</td>\n",
       "      <td>0</td>\n",
       "      <td>0</td>\n",
       "      <td>0</td>\n",
       "      <td>0</td>\n",
       "      <td>...</td>\n",
       "      <td>0</td>\n",
       "      <td>0</td>\n",
       "      <td>0</td>\n",
       "      <td>0</td>\n",
       "      <td>0</td>\n",
       "      <td>0</td>\n",
       "      <td>0</td>\n",
       "      <td>0</td>\n",
       "      <td>0</td>\n",
       "      <td>0</td>\n",
       "    </tr>\n",
       "    <tr>\n",
       "      <th>4</th>\n",
       "      <td>9</td>\n",
       "      <td>0</td>\n",
       "      <td>0</td>\n",
       "      <td>0</td>\n",
       "      <td>0</td>\n",
       "      <td>0</td>\n",
       "      <td>0</td>\n",
       "      <td>0</td>\n",
       "      <td>0</td>\n",
       "      <td>0</td>\n",
       "      <td>...</td>\n",
       "      <td>0</td>\n",
       "      <td>0</td>\n",
       "      <td>0</td>\n",
       "      <td>0</td>\n",
       "      <td>0</td>\n",
       "      <td>0</td>\n",
       "      <td>0</td>\n",
       "      <td>0</td>\n",
       "      <td>0</td>\n",
       "      <td>0</td>\n",
       "    </tr>\n",
       "  </tbody>\n",
       "</table>\n",
       "<p>5 rows × 785 columns</p>\n",
       "</div>"
      ],
      "text/plain": [
       "   label  1x1  1x2  1x3  1x4  1x5  1x6  1x7  1x8  1x9  ...  28x19  28x20  \\\n",
       "0      5    0    0    0    0    0    0    0    0    0  ...      0      0   \n",
       "1      0    0    0    0    0    0    0    0    0    0  ...      0      0   \n",
       "2      4    0    0    0    0    0    0    0    0    0  ...      0      0   \n",
       "3      1    0    0    0    0    0    0    0    0    0  ...      0      0   \n",
       "4      9    0    0    0    0    0    0    0    0    0  ...      0      0   \n",
       "\n",
       "   28x21  28x22  28x23  28x24  28x25  28x26  28x27  28x28  \n",
       "0      0      0      0      0      0      0      0      0  \n",
       "1      0      0      0      0      0      0      0      0  \n",
       "2      0      0      0      0      0      0      0      0  \n",
       "3      0      0      0      0      0      0      0      0  \n",
       "4      0      0      0      0      0      0      0      0  \n",
       "\n",
       "[5 rows x 785 columns]"
      ]
     },
     "execution_count": 234,
     "metadata": {},
     "output_type": "execute_result"
    }
   ],
   "source": [
    "df = pd.read_csv(file_path)\n",
    "df.head()"
   ]
  },
  {
   "cell_type": "code",
   "execution_count": 235,
   "id": "ad7b69ff",
   "metadata": {},
   "outputs": [],
   "source": [
    "X = df.drop([\"label\"], axis = 1).values\n",
    "y = df[\"label\"].values"
   ]
  },
  {
   "cell_type": "code",
   "execution_count": 236,
   "id": "21e1a61a",
   "metadata": {},
   "outputs": [
    {
     "data": {
      "text/plain": [
       "((60000, 784), (60000,))"
      ]
     },
     "execution_count": 236,
     "metadata": {},
     "output_type": "execute_result"
    }
   ],
   "source": [
    " X.shape, y.shape"
   ]
  },
  {
   "cell_type": "code",
   "execution_count": 237,
   "id": "4077de0e",
   "metadata": {},
   "outputs": [
    {
     "data": {
      "text/plain": [
       "(10000, 785)"
      ]
     },
     "execution_count": 237,
     "metadata": {},
     "output_type": "execute_result"
    }
   ],
   "source": [
    "file_path = get_file_path(\"test.csv\", \"original data\")\n",
    "df_test = pd.read_csv(file_path)\n",
    "df_test.shape"
   ]
  },
  {
   "cell_type": "code",
   "execution_count": 274,
   "id": "63069b5d",
   "metadata": {},
   "outputs": [
    {
     "data": {
      "text/plain": [
       "((10000, 784), (10000,))"
      ]
     },
     "execution_count": 274,
     "metadata": {},
     "output_type": "execute_result"
    }
   ],
   "source": [
    "y_test = df_test[\"label\"]\n",
    "X_test = df_test.drop([\"label\"], axis = 1)\n",
    "X_test.shape, y_test.shape"
   ]
  },
  {
   "cell_type": "markdown",
   "id": "a016e024",
   "metadata": {},
   "source": [
    "Each feature of the dataset is a pixel, and there are 60000 instances.\n",
    "Since they are images it is possible to visualize them. Let's see a exemple:"
   ]
  },
  {
   "cell_type": "code",
   "execution_count": 238,
   "id": "08ad18d0",
   "metadata": {},
   "outputs": [
    {
     "data": {
      "image/png": "[encoded data removed]",
      "text/plain": [
       "<Figure size 432x288 with 1 Axes>"
      ]
     },
     "metadata": {
      "needs_background": "light"
     },
     "output_type": "display_data"
    }
   ],
   "source": [
    "plt.imshow(X[5].reshape(28,28), cmap = mpl.cm.binary)\n",
    "plt.title(\"number \"+str(y[5]))\n",
    "plt.show()"
   ]
  },
  {
   "cell_type": "markdown",
   "id": "3fba3dc5",
   "metadata": {},
   "source": [
    "It was necessary to reshape X[3] to convert the array of pixels into a matrix so that it could be visualized."
   ]
  },
  {
   "cell_type": "markdown",
   "id": "c1f970e7",
   "metadata": {},
   "source": [
    "## Data Preparation\n",
    "First let's scale the data before peform a  Principal Component Analisys."
   ]
  },
  {
   "cell_type": "code",
   "execution_count": 277,
   "id": "1a26ed5b",
   "metadata": {},
   "outputs": [
    {
     "data": {
      "text/plain": [
       "(60000, 331)"
      ]
     },
     "execution_count": 277,
     "metadata": {},
     "output_type": "execute_result"
    }
   ],
   "source": [
    "from sklearn.preprocessing import StandardScaler\n",
    "from sklearn.decomposition import PCA\n",
    "scaler = StandardScaler()\n",
    "X = scaler.fit_transform(X)\n",
    "\n",
    "pca = PCA(n_components=0.95, random_state=42)\n",
    "X_reduced = pca.fit_transform(X)\n",
    "X_reduced.shape"
   ]
  },
  {
   "cell_type": "markdown",
   "id": "e7fbc644",
   "metadata": {},
   "source": [
    "Great!\n",
    "With PCA it was possible to reduce  the number of features from 784 to 331 preserving 95% of the information(variance). Let's now start modeling.\n",
    "___"
   ]
  },
  {
   "cell_type": "markdown",
   "id": "51eba610",
   "metadata": {},
   "source": [
    "## Modeling\n",
    "I will now build a Pipeline with the data preparation steps.\n",
    "\n",
    "Three algorithms are going to be used: KNN, LogisticRegression and RandomForestClassifier. \n",
    "They'll be validated using k-fold cross validation."
   ]
  },
  {
   "cell_type": "code",
   "execution_count": 240,
   "id": "6b56c329",
   "metadata": {},
   "outputs": [],
   "source": [
    "from sklearn.pipeline import Pipeline\n",
    "\n",
    "from sklearn.neighbors import KNeighborsClassifier\n",
    "from sklearn.linear_model import LogisticRegression\n",
    "from sklearn.ensemble import RandomForestClassifier\n",
    "from sklearn.svm import SVC\n",
    "\n",
    "from sklearn.model_selection import cross_val_score\n",
    "from sklearn.metrics import accuracy_score\n",
    "\n",
    "from hyperopt import hp, tpe, STATUS_OK, Trials, fmin, space_eval\n",
    "\n",
    "from functools import partial # to solve scoping problem when supplying more params' to objective function\n"
   ]
  },
  {
   "cell_type": "markdown",
   "id": "adc539ca",
   "metadata": {},
   "source": [
    "First, let's train a baseline model to see how much we can improve the accuracy"
   ]
  },
  {
   "cell_type": "code",
   "execution_count": 276,
   "id": "7b788f67",
   "metadata": {},
   "outputs": [
    {
     "name": "stdout",
     "output_type": "stream",
     "text": [
      "Accuracy =  0.2369\n"
     ]
    }
   ],
   "source": [
    "#Baseline model\n",
    "model = RandomForestClassifier(random_state=42)\n",
    "model.fit(X, y)\n",
    "yhat = model.predict(X_test)\n",
    "print(\"Accuracy = \",accuracy_score(y_test, yhat))"
   ]
  },
  {
   "cell_type": "markdown",
   "id": "a4a058a8",
   "metadata": {},
   "source": [
    "Now let's define the functions that are going to be used for hyper parameter tuning with Hyperopt:"
   ]
  },
  {
   "cell_type": "code",
   "execution_count": 241,
   "id": "ae4f64da",
   "metadata": {},
   "outputs": [],
   "source": [
    "def objective(params, model ,X, y):\n",
    "    model.set_params(**params)\n",
    "\n",
    "    scores = cross_val_score(model,X,y,scoring='accuracy',cv=3, n_jobs=-1)\n",
    "    print(' Accuracy: %.3f (%.3f)' % (np.mean(scores), np.std(scores)))\n",
    "    loss = 1-np.mean(scores)\n",
    "    return {'loss': loss, 'params': params, 'status': STATUS_OK}\n",
    "\n",
    "    \n",
    "def include_None(i_range):\n",
    "    res = list(i_range)\n",
    "    res.append(None)\n",
    "    return res\n",
    "\n",
    "def find_best_params(space,X,y,model):\n",
    "    # Trials object to track progress\n",
    "    trials = Trials()\n",
    "\n",
    "    # Optimize\n",
    "    best = fmin(\n",
    "        fn=partial(objective, model=model, X=X, y=y),\n",
    "        space=space,\n",
    "        algo=tpe.suggest,\n",
    "        max_evals=15,\n",
    "        trials=trials\n",
    "    )\n",
    "    return best"
   ]
  },
  {
   "cell_type": "code",
   "execution_count": 242,
   "id": "a7fe5142",
   "metadata": {},
   "outputs": [],
   "source": [
    "#Data preparation PipeLine\n",
    "prep_pipe = Pipeline(steps = [\n",
    "    (\"scaler\", StandardScaler()),\n",
    "    (\"pca\", PCA(n_components=0.95, random_state=42))\n",
    "    ]\n",
    ")\n",
    "X_prep = prep_pipe.fit_transform(X)"
   ]
  },
  {
   "cell_type": "markdown",
   "id": "7aae4ff4",
   "metadata": {},
   "source": [
    "Finally, we define the space of hyper parameters and start the optmization. \n",
    "Three algorithms will be used:\n",
    " - RandomForestClassifier\n",
    " - KNeighborsClassifier\n",
    " - SVC"
   ]
  },
  {
   "cell_type": "code",
   "execution_count": 247,
   "id": "9de9f2d3",
   "metadata": {},
   "outputs": [
    {
     "name": "stdout",
     "output_type": "stream",
     "text": [
      " Accuracy: 0.824 (0.006)                              \n",
      " Accuracy: 0.815 (0.006)                                                          \n",
      " Accuracy: 0.921 (0.003)                                                          \n",
      " Accuracy: 0.820 (0.006)                                                            \n",
      " Accuracy: 0.803 (0.006)                                                            \n",
      " Accuracy: 0.810 (0.006)                                                          \n",
      " Accuracy: 0.530 (0.008)                                                          \n",
      " Accuracy: 0.809 (0.005)                                                          \n",
      " Accuracy: 0.922 (0.003)                                                          \n",
      " Accuracy: 0.801 (0.005)                                                          \n",
      " Accuracy: 0.774 (0.008)                                                           \n",
      " Accuracy: 0.831 (0.005)                                                           \n",
      " Accuracy: 0.889 (0.001)                                                           \n",
      " Accuracy: 0.830 (0.006)                                                           \n",
      " Accuracy: 0.788 (0.005)                                                           \n",
      "100%|██████████| 15/15 [59:23<00:00, 237.59s/trial, best loss: 0.07818333333333338]\n"
     ]
    }
   ],
   "source": [
    "rf_space = {\n",
    "    'n_estimators': hp.choice('n_estimators', range(50,2000)),\n",
    "    'max_depth': hp.choice('max_depth', include_None(range(5,100,5))),\n",
    "    'min_samples_split': hp.choice('min_samples_split',range(2,10)),\n",
    "    'min_samples_leaf': hp.choice('min_samples_leaf',range(2,15)),\n",
    "    'max_features': hp.choice('max_features', include_None(range(1,20,2))),\n",
    "    'max_leaf_nodes': hp.choice('max_leaf_nodes', include_None(range(2,20,2)))\n",
    "}\n",
    "\n",
    "rf_model = RandomForestClassifier(random_state=42, n_jobs=-1)\n",
    "rf_best = find_best_params(space=rf_space, X=X_prep,y=y,model = rf_model)"
   ]
  },
  {
   "cell_type": "code",
   "execution_count": 249,
   "id": "88028f3c",
   "metadata": {},
   "outputs": [
    {
     "name": "stdout",
     "output_type": "stream",
     "text": [
      " Accuracy: 0.939 (0.001)                              \n",
      " Accuracy: 0.936 (0.001)                                                            \n",
      " Accuracy: 0.941 (0.002)                                                            \n",
      " Accuracy: 0.935 (0.001)                                                             \n",
      " Accuracy: 0.938 (0.001)                                                             \n",
      " Accuracy: 0.933 (0.002)                                                             \n",
      " Accuracy: 0.942 (0.002)                                                             \n",
      " Accuracy: 0.924 (0.001)                                                           \n",
      " Accuracy: 0.938 (0.001)                                                          \n",
      " Accuracy: 0.917 (0.002)                                                          \n",
      " Accuracy: 0.935 (0.002)                                                           \n",
      " Accuracy: 0.919 (0.002)                                                             \n",
      " Accuracy: 0.937 (0.003)                                                             \n",
      " Accuracy: 0.936 (0.002)                                                             \n",
      " Accuracy: 0.917 (0.002)                                                             \n",
      "100%|██████████| 15/15 [1:32:21<00:00, 369.42s/trial, best loss: 0.05786666666666662]\n"
     ]
    }
   ],
   "source": [
    "knn_space = {\n",
    "    \"n_neighbors\":hp.choice(\"n_neighbors\",range(2,15)),\n",
    "    'algorithm': hp.choice('algorithm',['auto', 'ball_tree', 'kd_tree']),\n",
    "    'metric': hp.choice('metric', ['chebyshev', 'minkowski']),\n",
    "    'p': hp.choice('p', [1, 2]),\n",
    "}\n",
    "\n",
    "knn_model = KNeighborsClassifier(n_jobs=-1)\n",
    "knn_best = find_best_params(space=knn_space, X=X_prep,y=y,model = knn_model)"
   ]
  },
  {
   "cell_type": "code",
   "execution_count": 250,
   "id": "43e0f9ab",
   "metadata": {},
   "outputs": [
    {
     "name": "stdout",
     "output_type": "stream",
     "text": [
      " Accuracy: 0.928 (0.001)                              \n",
      " Accuracy: 0.971 (0.001)                                                          \n",
      " Accuracy: 0.927 (0.000)                                                           \n",
      " Accuracy: 0.955 (0.001)                                                           \n",
      " Accuracy: 0.934 (0.001)                                                           \n",
      " Accuracy: 0.941 (0.002)                                                           \n",
      " Accuracy: 0.872 (0.003)                                                           \n",
      " Accuracy: 0.972 (0.002)                                                           \n",
      " Accuracy: 0.885 (0.001)                                                           \n",
      " Accuracy: 0.783 (0.004)                                                           \n",
      " Accuracy: 0.964 (0.002)                                                            \n",
      " Accuracy: 0.784 (0.004)                                                            \n",
      " Accuracy: 0.794 (0.005)                                                            \n",
      " Accuracy: 0.928 (0.000)                                                              \n",
      " Accuracy: 0.929 (0.000)                                                              \n",
      "100%|██████████| 15/15 [1:14:49<00:00, 299.33s/trial, best loss: 0.027649999999999952]\n"
     ]
    }
   ],
   "source": [
    "svc_space = {\n",
    "      'C': hp.uniform('C', 0.05, 2.5),\n",
    "      'kernel': hp.choice('kernel',['linear', 'poly', 'rbf', 'sigmoid', 'precomputed']),\n",
    "      'degree':hp.choice('degree',range(2,6)),\n",
    "      'gamma':hp.choice('gamma',[\"scale\", \"auto\"])\n",
    "}\n",
    "\n",
    "svc_model = SVC(random_state=42)\n",
    "svc_best = find_best_params(space=svc_space, X=X_prep,y=y,model = svc_model)"
   ]
  },
  {
   "cell_type": "code",
   "execution_count": 257,
   "id": "b9c76d9a",
   "metadata": {},
   "outputs": [
    {
     "name": "stdout",
     "output_type": "stream",
     "text": [
      "{'max_depth': 50, 'max_features': 19, 'max_leaf_nodes': None, 'min_samples_leaf': 13, 'min_samples_split': 2, 'n_estimators': 209}\n"
     ]
    }
   ],
   "source": [
    "rf_best_params = space_eval(rf_space, rf_best)\n",
    "rf_best_params"
   ]
  },
  {
   "cell_type": "code",
   "execution_count": 255,
   "id": "9bd941c7",
   "metadata": {},
   "outputs": [
    {
     "data": {
      "text/plain": [
       "{'algorithm': 'auto', 'metric': 'minkowski', 'n_neighbors': 6, 'p': 2}"
      ]
     },
     "execution_count": 255,
     "metadata": {},
     "output_type": "execute_result"
    }
   ],
   "source": [
    "knn_best_params = space_eval(knn_space, knn_best)\n",
    "knn_best_params"
   ]
  },
  {
   "cell_type": "code",
   "execution_count": 256,
   "id": "ed8ddacc",
   "metadata": {},
   "outputs": [
    {
     "data": {
      "text/plain": [
       "{'C': 1.422315575267455, 'degree': 2, 'gamma': 'auto', 'kernel': 'poly'}"
      ]
     },
     "execution_count": 256,
     "metadata": {},
     "output_type": "execute_result"
    }
   ],
   "source": [
    "svc_best_params = space_eval(svc_space, svc_best)\n",
    "svc_best_params"
   ]
  },
  {
   "cell_type": "markdown",
   "id": "77976fd0",
   "metadata": {},
   "source": [
    "Now we train the models using the best hyper parameters and test them with the test data"
   ]
  },
  {
   "cell_type": "code",
   "execution_count": 265,
   "id": "7d8e8c05",
   "metadata": {},
   "outputs": [
    {
     "data": {
      "text/html": [
       "<style>#sk-container-id-11 {color: black;background-color: white;}#sk-container-id-11 pre{padding: 0;}#sk-container-id-11 div.sk-toggleable {background-color: white;}#sk-container-id-11 label.sk-toggleable__label {cursor: pointer;display: block;width: 100%;margin-bottom: 0;padding: 0.3em;box-sizing: border-box;text-align: center;}#sk-container-id-11 label.sk-toggleable__label-arrow:before {content: \"▸\";float: left;margin-right: 0.25em;color: #696969;}#sk-container-id-11 label.sk-toggleable__label-arrow:hover:before {color: black;}#sk-container-id-11 div.sk-estimator:hover label.sk-toggleable__label-arrow:before {color: black;}#sk-container-id-11 div.sk-toggleable__content {max-height: 0;max-width: 0;overflow: hidden;text-align: left;background-color: #f0f8ff;}#sk-container-id-11 div.sk-toggleable__content pre {margin: 0.2em;color: black;border-radius: 0.25em;background-color: #f0f8ff;}#sk-container-id-11 input.sk-toggleable__control:checked~div.sk-toggleable__content {max-height: 200px;max-width: 100%;overflow: auto;}#sk-container-id-11 input.sk-toggleable__control:checked~label.sk-toggleable__label-arrow:before {content: \"▾\";}#sk-container-id-11 div.sk-estimator input.sk-toggleable__control:checked~label.sk-toggleable__label {background-color: #d4ebff;}#sk-container-id-11 div.sk-label input.sk-toggleable__control:checked~label.sk-toggleable__label {background-color: #d4ebff;}#sk-container-id-11 input.sk-hidden--visually {border: 0;clip: rect(1px 1px 1px 1px);clip: rect(1px, 1px, 1px, 1px);height: 1px;margin: -1px;overflow: hidden;padding: 0;position: absolute;width: 1px;}#sk-container-id-11 div.sk-estimator {font-family: monospace;background-color: #f0f8ff;border: 1px dotted black;border-radius: 0.25em;box-sizing: border-box;margin-bottom: 0.5em;}#sk-container-id-11 div.sk-estimator:hover {background-color: #d4ebff;}#sk-container-id-11 div.sk-parallel-item::after {content: \"\";width: 100%;border-bottom: 1px solid gray;flex-grow: 1;}#sk-container-id-11 div.sk-label:hover label.sk-toggleable__label {background-color: #d4ebff;}#sk-container-id-11 div.sk-serial::before {content: \"\";position: absolute;border-left: 1px solid gray;box-sizing: border-box;top: 0;bottom: 0;left: 50%;z-index: 0;}#sk-container-id-11 div.sk-serial {display: flex;flex-direction: column;align-items: center;background-color: white;padding-right: 0.2em;padding-left: 0.2em;position: relative;}#sk-container-id-11 div.sk-item {position: relative;z-index: 1;}#sk-container-id-11 div.sk-parallel {display: flex;align-items: stretch;justify-content: center;background-color: white;position: relative;}#sk-container-id-11 div.sk-item::before, #sk-container-id-11 div.sk-parallel-item::before {content: \"\";position: absolute;border-left: 1px solid gray;box-sizing: border-box;top: 0;bottom: 0;left: 50%;z-index: -1;}#sk-container-id-11 div.sk-parallel-item {display: flex;flex-direction: column;z-index: 1;position: relative;background-color: white;}#sk-container-id-11 div.sk-parallel-item:first-child::after {align-self: flex-end;width: 50%;}#sk-container-id-11 div.sk-parallel-item:last-child::after {align-self: flex-start;width: 50%;}#sk-container-id-11 div.sk-parallel-item:only-child::after {width: 0;}#sk-container-id-11 div.sk-dashed-wrapped {border: 1px dashed gray;margin: 0 0.4em 0.5em 0.4em;box-sizing: border-box;padding-bottom: 0.4em;background-color: white;}#sk-container-id-11 div.sk-label label {font-family: monospace;font-weight: bold;display: inline-block;line-height: 1.2em;}#sk-container-id-11 div.sk-label-container {text-align: center;}#sk-container-id-11 div.sk-container {/* jupyter's `normalize.less` sets `[hidden] { display: none; }` but bootstrap.min.css set `[hidden] { display: none !important; }` so we also need the `!important` here to be able to override the default hidden behavior on the sphinx rendered scikit-learn.org. See: https://github.com/scikit-learn/scikit-learn/issues/21755 */display: inline-block !important;position: relative;}#sk-container-id-11 div.sk-text-repr-fallback {display: none;}</style><div id=\"sk-container-id-11\" class=\"sk-top-container\"><div class=\"sk-text-repr-fallback\"><pre>SVC(C=1.422315575267455, degree=2, gamma=&#x27;auto&#x27;, kernel=&#x27;poly&#x27;, random_state=40)</pre><b>In a Jupyter environment, please rerun this cell to show the HTML representation or trust the notebook. <br />On GitHub, the HTML representation is unable to render, please try loading this page with nbviewer.org.</b></div><div class=\"sk-container\" hidden><div class=\"sk-item\"><div class=\"sk-estimator sk-toggleable\"><input class=\"sk-toggleable__control sk-hidden--visually\" id=\"sk-estimator-id-18\" type=\"checkbox\" checked><label for=\"sk-estimator-id-18\" class=\"sk-toggleable__label sk-toggleable__label-arrow\">SVC</label><div class=\"sk-toggleable__content\"><pre>SVC(C=1.422315575267455, degree=2, gamma=&#x27;auto&#x27;, kernel=&#x27;poly&#x27;, random_state=40)</pre></div></div></div></div></div>"
      ],
      "text/plain": [
       "SVC(C=1.422315575267455, degree=2, gamma='auto', kernel='poly', random_state=40)"
      ]
     },
     "execution_count": 265,
     "metadata": {},
     "output_type": "execute_result"
    }
   ],
   "source": [
    "rf_model = RandomForestClassifier(random_state=40, n_jobs=-1)\n",
    "rf_model.set_params(**rf_best_params)\n",
    "rf_model.fit(X_prep, y)\n",
    "\n",
    "knn_model = KNeighborsClassifier(n_jobs=-1)\n",
    "knn_model.set_params(**knn_best_params)\n",
    "knn_model.fit(X_prep, y)\n",
    "\n",
    "svc_model = SVC(random_state=40)\n",
    "svc_model.set_params(**svc_best_params)\n",
    "svc_model.fit(X_prep, y)\n",
    "\n"
   ]
  },
  {
   "cell_type": "code",
   "execution_count": 259,
   "id": "0e3a843d",
   "metadata": {},
   "outputs": [],
   "source": [
    "X_test_prep = prep_pipe.transform(X_test)"
   ]
  },
  {
   "cell_type": "code",
   "execution_count": 267,
   "id": "1473ad6d",
   "metadata": {},
   "outputs": [
    {
     "name": "stdout",
     "output_type": "stream",
     "text": [
      "RandomForestClassifier, accuracy: 0.5491\n",
      "KNeighborsClassifier, accuracy: 0.8013\n",
      "SVC, accuracy: 0.3427\n"
     ]
    }
   ],
   "source": [
    "yhat = rf_model.predict(X_test_prep)\n",
    "a = accuracy_score(y_test, yhat)\n",
    "print(\"RandomForestClassifier, accuracy:\", a)\n",
    "\n",
    "yhat = knn_model.predict(X_test_prep)\n",
    "a = accuracy_score(y_test, yhat)\n",
    "print(\"KNeighborsClassifier, accuracy:\", a)\n",
    "\n",
    "yhat = svc_model.predict(X_test_prep)\n",
    "a = accuracy_score(y_test, yhat)\n",
    "print(\"SVC, accuracy:\", a)"
   ]
  },
  {
   "cell_type": "markdown",
   "id": "6ae53e3e",
   "metadata": {},
   "source": [
    "Great, we improved the acurracy using techniques to speed up the hole process of modeling.\n",
    "\n",
    "That's it for now!"
   ]
  }
 ],
 "metadata": {
  "kernelspec": {
   "display_name": "Python 3 (ipykernel)",
   "language": "python",
   "name": "python3"
  },
  "language_info": {
   "codemirror_mode": {
    "name": "ipython",
    "version": 3
   },
   "file_extension": ".py",
   "mimetype": "text/x-python",
   "name": "python",
   "nbconvert_exporter": "python",
   "pygments_lexer": "ipython3",
   "version": "3.9.7"
  }
 },
 "nbformat": 4,
 "nbformat_minor": 5
}
