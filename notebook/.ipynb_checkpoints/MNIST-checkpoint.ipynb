{
 "cells": [
  {
   "cell_type": "code",
   "execution_count": null,
   "id": "75f8e50d",
   "metadata": {},
   "outputs": [],
   "source": []
  },
  {
   "cell_type": "code",
   "execution_count": null,
   "id": "4e1f48b3",
   "metadata": {},
   "outputs": [],
   "source": []
  },
  {
   "cell_type": "code",
   "execution_count": 1,
   "id": "64921223",
   "metadata": {},
   "outputs": [],
   "source": [
    "import os\n",
    "import pandas as pd\n",
    "import numpy as np"
   ]
  },
  {
   "cell_type": "code",
   "execution_count": 29,
   "id": "23f4e537",
   "metadata": {},
   "outputs": [],
   "source": [
    "def get_file_path(file, dir_name):\n",
    "    project_dir = os.path.dirname(os.path.dirname(os.path.abspath(\"-\")))\n",
    "    data_dir = os.path.join(project_dir, dir_name)\n",
    "    file_path = os.path.join(data_dir, file)\n",
    "    return file_path\n",
    "    \n",
    "file_path = get_file_path(\"train.csv\", \"original data\")"
   ]
  },
  {
   "cell_type": "code",
   "execution_count": 30,
   "id": "2410bd0f",
   "metadata": {},
   "outputs": [
    {
     "data": {
      "text/html": [
       "<div>\n",
       "<style scoped>\n",
       "    .dataframe tbody tr th:only-of-type {\n",
       "        vertical-align: middle;\n",
       "    }\n",
       "\n",
       "    .dataframe tbody tr th {\n",
       "        vertical-align: top;\n",
       "    }\n",
       "\n",
       "    .dataframe thead th {\n",
       "        text-align: right;\n",
       "    }\n",
       "</style>\n",
       "<table border=\"1\" class=\"dataframe\">\n",
       "  <thead>\n",
       "    <tr style=\"text-align: right;\">\n",
       "      <th></th>\n",
       "      <th>label</th>\n",
       "      <th>pixel0</th>\n",
       "      <th>pixel1</th>\n",
       "      <th>pixel2</th>\n",
       "      <th>pixel3</th>\n",
       "      <th>pixel4</th>\n",
       "      <th>pixel5</th>\n",
       "      <th>pixel6</th>\n",
       "      <th>pixel7</th>\n",
       "      <th>pixel8</th>\n",
       "      <th>...</th>\n",
       "      <th>pixel774</th>\n",
       "      <th>pixel775</th>\n",
       "      <th>pixel776</th>\n",
       "      <th>pixel777</th>\n",
       "      <th>pixel778</th>\n",
       "      <th>pixel779</th>\n",
       "      <th>pixel780</th>\n",
       "      <th>pixel781</th>\n",
       "      <th>pixel782</th>\n",
       "      <th>pixel783</th>\n",
       "    </tr>\n",
       "  </thead>\n",
       "  <tbody>\n",
       "    <tr>\n",
       "      <th>0</th>\n",
       "      <td>1</td>\n",
       "      <td>0</td>\n",
       "      <td>0</td>\n",
       "      <td>0</td>\n",
       "      <td>0</td>\n",
       "      <td>0</td>\n",
       "      <td>0</td>\n",
       "      <td>0</td>\n",
       "      <td>0</td>\n",
       "      <td>0</td>\n",
       "      <td>...</td>\n",
       "      <td>0</td>\n",
       "      <td>0</td>\n",
       "      <td>0</td>\n",
       "      <td>0</td>\n",
       "      <td>0</td>\n",
       "      <td>0</td>\n",
       "      <td>0</td>\n",
       "      <td>0</td>\n",
       "      <td>0</td>\n",
       "      <td>0</td>\n",
       "    </tr>\n",
       "    <tr>\n",
       "      <th>1</th>\n",
       "      <td>0</td>\n",
       "      <td>0</td>\n",
       "      <td>0</td>\n",
       "      <td>0</td>\n",
       "      <td>0</td>\n",
       "      <td>0</td>\n",
       "      <td>0</td>\n",
       "      <td>0</td>\n",
       "      <td>0</td>\n",
       "      <td>0</td>\n",
       "      <td>...</td>\n",
       "      <td>0</td>\n",
       "      <td>0</td>\n",
       "      <td>0</td>\n",
       "      <td>0</td>\n",
       "      <td>0</td>\n",
       "      <td>0</td>\n",
       "      <td>0</td>\n",
       "      <td>0</td>\n",
       "      <td>0</td>\n",
       "      <td>0</td>\n",
       "    </tr>\n",
       "    <tr>\n",
       "      <th>2</th>\n",
       "      <td>1</td>\n",
       "      <td>0</td>\n",
       "      <td>0</td>\n",
       "      <td>0</td>\n",
       "      <td>0</td>\n",
       "      <td>0</td>\n",
       "      <td>0</td>\n",
       "      <td>0</td>\n",
       "      <td>0</td>\n",
       "      <td>0</td>\n",
       "      <td>...</td>\n",
       "      <td>0</td>\n",
       "      <td>0</td>\n",
       "      <td>0</td>\n",
       "      <td>0</td>\n",
       "      <td>0</td>\n",
       "      <td>0</td>\n",
       "      <td>0</td>\n",
       "      <td>0</td>\n",
       "      <td>0</td>\n",
       "      <td>0</td>\n",
       "    </tr>\n",
       "    <tr>\n",
       "      <th>3</th>\n",
       "      <td>4</td>\n",
       "      <td>0</td>\n",
       "      <td>0</td>\n",
       "      <td>0</td>\n",
       "      <td>0</td>\n",
       "      <td>0</td>\n",
       "      <td>0</td>\n",
       "      <td>0</td>\n",
       "      <td>0</td>\n",
       "      <td>0</td>\n",
       "      <td>...</td>\n",
       "      <td>0</td>\n",
       "      <td>0</td>\n",
       "      <td>0</td>\n",
       "      <td>0</td>\n",
       "      <td>0</td>\n",
       "      <td>0</td>\n",
       "      <td>0</td>\n",
       "      <td>0</td>\n",
       "      <td>0</td>\n",
       "      <td>0</td>\n",
       "    </tr>\n",
       "    <tr>\n",
       "      <th>4</th>\n",
       "      <td>0</td>\n",
       "      <td>0</td>\n",
       "      <td>0</td>\n",
       "      <td>0</td>\n",
       "      <td>0</td>\n",
       "      <td>0</td>\n",
       "      <td>0</td>\n",
       "      <td>0</td>\n",
       "      <td>0</td>\n",
       "      <td>0</td>\n",
       "      <td>...</td>\n",
       "      <td>0</td>\n",
       "      <td>0</td>\n",
       "      <td>0</td>\n",
       "      <td>0</td>\n",
       "      <td>0</td>\n",
       "      <td>0</td>\n",
       "      <td>0</td>\n",
       "      <td>0</td>\n",
       "      <td>0</td>\n",
       "      <td>0</td>\n",
       "    </tr>\n",
       "  </tbody>\n",
       "</table>\n",
       "<p>5 rows × 785 columns</p>\n",
       "</div>"
      ],
      "text/plain": [
       "   label  pixel0  pixel1  pixel2  pixel3  pixel4  pixel5  pixel6  pixel7  \\\n",
       "0      1       0       0       0       0       0       0       0       0   \n",
       "1      0       0       0       0       0       0       0       0       0   \n",
       "2      1       0       0       0       0       0       0       0       0   \n",
       "3      4       0       0       0       0       0       0       0       0   \n",
       "4      0       0       0       0       0       0       0       0       0   \n",
       "\n",
       "   pixel8  ...  pixel774  pixel775  pixel776  pixel777  pixel778  pixel779  \\\n",
       "0       0  ...         0         0         0         0         0         0   \n",
       "1       0  ...         0         0         0         0         0         0   \n",
       "2       0  ...         0         0         0         0         0         0   \n",
       "3       0  ...         0         0         0         0         0         0   \n",
       "4       0  ...         0         0         0         0         0         0   \n",
       "\n",
       "   pixel780  pixel781  pixel782  pixel783  \n",
       "0         0         0         0         0  \n",
       "1         0         0         0         0  \n",
       "2         0         0         0         0  \n",
       "3         0         0         0         0  \n",
       "4         0         0         0         0  \n",
       "\n",
       "[5 rows x 785 columns]"
      ]
     },
     "execution_count": 30,
     "metadata": {},
     "output_type": "execute_result"
    }
   ],
   "source": [
    "df = pd.read_csv(file_path)\n",
    "df.head()"
   ]
  },
  {
   "cell_type": "code",
   "execution_count": 4,
   "id": "ad7b69ff",
   "metadata": {},
   "outputs": [],
   "source": [
    "X = df.drop([\"label\"], axis = 1).values\n",
    "y = df[\"label\"].values\n",
    "df=0"
   ]
  },
  {
   "cell_type": "code",
   "execution_count": 5,
   "id": "21e1a61a",
   "metadata": {},
   "outputs": [
    {
     "data": {
      "text/plain": [
       "((42000, 784), (42000,))"
      ]
     },
     "execution_count": 5,
     "metadata": {},
     "output_type": "execute_result"
    }
   ],
   "source": [
    " X.shape, y.shape"
   ]
  },
  {
   "cell_type": "code",
   "execution_count": 10,
   "id": "0247c9c6",
   "metadata": {},
   "outputs": [
    {
     "name": "stdout",
     "output_type": "stream",
     "text": [
      "Mean Accuracy: 0.848 (0.004)\n"
     ]
    }
   ],
   "source": [
    "from sklearn.model_selection import cross_val_score\n",
    "from sklearn.model_selection import RepeatedStratifiedKFold\n",
    "from sklearn.tree import DecisionTreeClassifier\n",
    "from numpy import mean\n",
    "from numpy import std\n",
    "\n",
    "model = DecisionTreeClassifier()\n",
    "cv = RepeatedStratifiedKFold(n_splits=3, n_repeats=3 ,random_state=42)\n",
    "scores = cross_val_score(model, X, y, scoring='accuracy', cv = cv, n_jobs = -1)\n",
    "print('Mean Accuracy: %.3f (%.3f)' % (mean(scores), std(scores)))"
   ]
  },
  {
   "cell_type": "code",
   "execution_count": 12,
   "id": "7b65513c",
   "metadata": {},
   "outputs": [],
   "source": [
    "from sklearn.model_selection import cross_val_predict\n",
    "yhat = cross_val_predict(model, X,y, cv=3)"
   ]
  },
  {
   "cell_type": "code",
   "execution_count": 14,
   "id": "89de5bb2",
   "metadata": {},
   "outputs": [
    {
     "data": {
      "text/plain": [
       "array([[3730,    7,   49,   44,   23,   85,   68,   30,   57,   39],\n",
       "       [   4, 4433,   43,   38,   22,   28,   24,   22,   54,   16],\n",
       "       [  49,   74, 3418,  160,   48,   55,   80,  102,  126,   65],\n",
       "       [  40,   52,  136, 3477,   33,  224,   33,   79,  166,  111],\n",
       "       [  30,   33,   46,   39, 3461,   46,   60,   56,   68,  233],\n",
       "       [  61,   60,   45,  250,   48, 2926,  135,   28,  139,  103],\n",
       "       [  65,   25,   56,   28,   82,  127, 3641,    9,   77,   27],\n",
       "       [  12,   26,  115,   65,   52,   41,    7, 3885,   48,  150],\n",
       "       [  57,   94,  124,  186,   88,  142,   76,   59, 3115,  122],\n",
       "       [  29,   14,   52,   87,  200,   66,   20,  162,  115, 3443]],\n",
       "      dtype=int64)"
      ]
     },
     "execution_count": 14,
     "metadata": {},
     "output_type": "execute_result"
    }
   ],
   "source": [
    "from sklearn.metrics import confusion_matrix\n",
    "confusion_matrix(y, yhat)"
   ]
  },
  {
   "cell_type": "code",
   "execution_count": null,
   "id": "0e3674f7",
   "metadata": {},
   "outputs": [],
   "source": []
  },
  {
   "cell_type": "code",
   "execution_count": null,
   "id": "0b41d3dc",
   "metadata": {},
   "outputs": [],
   "source": []
  },
  {
   "cell_type": "code",
   "execution_count": 47,
   "id": "583fd57f",
   "metadata": {},
   "outputs": [],
   "source": [
    "from PIL import Image\n",
    "#marreta = Image.open(\"marreta.jpg\")\n",
    "labels = [0,1,2,3,4,5,6,7,8,9,0,1,2,3,4,5,6,7,8,9]\n",
    "labels_test = pd.Series(labels, name = \"label\")\n",
    "\n",
    "imgs = []\n",
    "for i in range(10,20):\n",
    "    str_file = \"img\"+str(i)+\".jpg\"\n",
    "    file_name = get_file_path(str_file, \"imgtest\")\n",
    "    file = Image.open(file_path)\n",
    "    imgs.append(file)\n",
    "    \n"
   ]
  },
  {
   "cell_type": "code",
   "execution_count": null,
   "id": "81c9f5df",
   "metadata": {},
   "outputs": [],
   "source": []
  },
  {
   "cell_type": "code",
   "execution_count": 35,
   "id": "8a2638cc",
   "metadata": {},
   "outputs": [],
   "source": [
    "file_path = get_file_path(\"img0.jpg\",\"imgtest\")\n",
    "zero = Image.open(file_path)"
   ]
  },
  {
   "cell_type": "code",
   "execution_count": 40,
   "id": "62751b92",
   "metadata": {},
   "outputs": [],
   "source": [
    " zero = np.array(zero)[:,:,0]"
   ]
  },
  {
   "cell_type": "code",
   "execution_count": 42,
   "id": "55fabd36",
   "metadata": {},
   "outputs": [
    {
     "data": {
      "image/png": "[encoded data removed]",
      "text/plain": [
       "<Figure size 432x288 with 1 Axes>"
      ]
     },
     "metadata": {
      "needs_background": "light"
     },
     "output_type": "display_data"
    }
   ],
   "source": [
    "import matplotlib.pyplot as plt\n",
    "import matplotlib as mpl\n",
    "\n",
    "plt.imshow(zero)\n",
    "plt.show()"
   ]
  },
  {
   "cell_type": "code",
   "execution_count": 26,
   "id": "7049af7e",
   "metadata": {},
   "outputs": [
    {
     "data": {
      "text/html": [
       "<div>\n",
       "<style scoped>\n",
       "    .dataframe tbody tr th:only-of-type {\n",
       "        vertical-align: middle;\n",
       "    }\n",
       "\n",
       "    .dataframe tbody tr th {\n",
       "        vertical-align: top;\n",
       "    }\n",
       "\n",
       "    .dataframe thead th {\n",
       "        text-align: right;\n",
       "    }\n",
       "</style>\n",
       "<table border=\"1\" class=\"dataframe\">\n",
       "  <thead>\n",
       "    <tr style=\"text-align: right;\">\n",
       "      <th></th>\n",
       "      <th>label</th>\n",
       "      <th>label</th>\n",
       "    </tr>\n",
       "  </thead>\n",
       "  <tbody>\n",
       "    <tr>\n",
       "      <th>0</th>\n",
       "      <td>0</td>\n",
       "      <td>1</td>\n",
       "    </tr>\n",
       "    <tr>\n",
       "      <th>1</th>\n",
       "      <td>1</td>\n",
       "      <td>2</td>\n",
       "    </tr>\n",
       "    <tr>\n",
       "      <th>2</th>\n",
       "      <td>2</td>\n",
       "      <td>3</td>\n",
       "    </tr>\n",
       "    <tr>\n",
       "      <th>3</th>\n",
       "      <td>3</td>\n",
       "      <td>4</td>\n",
       "    </tr>\n",
       "    <tr>\n",
       "      <th>4</th>\n",
       "      <td>4</td>\n",
       "      <td>5</td>\n",
       "    </tr>\n",
       "    <tr>\n",
       "      <th>5</th>\n",
       "      <td>5</td>\n",
       "      <td>6</td>\n",
       "    </tr>\n",
       "    <tr>\n",
       "      <th>6</th>\n",
       "      <td>6</td>\n",
       "      <td>7</td>\n",
       "    </tr>\n",
       "    <tr>\n",
       "      <th>7</th>\n",
       "      <td>7</td>\n",
       "      <td>8</td>\n",
       "    </tr>\n",
       "    <tr>\n",
       "      <th>8</th>\n",
       "      <td>8</td>\n",
       "      <td>9</td>\n",
       "    </tr>\n",
       "    <tr>\n",
       "      <th>9</th>\n",
       "      <td>9</td>\n",
       "      <td>10</td>\n",
       "    </tr>\n",
       "    <tr>\n",
       "      <th>10</th>\n",
       "      <td>0</td>\n",
       "      <td>1</td>\n",
       "    </tr>\n",
       "    <tr>\n",
       "      <th>11</th>\n",
       "      <td>1</td>\n",
       "      <td>2</td>\n",
       "    </tr>\n",
       "    <tr>\n",
       "      <th>12</th>\n",
       "      <td>2</td>\n",
       "      <td>3</td>\n",
       "    </tr>\n",
       "    <tr>\n",
       "      <th>13</th>\n",
       "      <td>3</td>\n",
       "      <td>4</td>\n",
       "    </tr>\n",
       "    <tr>\n",
       "      <th>14</th>\n",
       "      <td>4</td>\n",
       "      <td>5</td>\n",
       "    </tr>\n",
       "    <tr>\n",
       "      <th>15</th>\n",
       "      <td>5</td>\n",
       "      <td>6</td>\n",
       "    </tr>\n",
       "    <tr>\n",
       "      <th>16</th>\n",
       "      <td>6</td>\n",
       "      <td>7</td>\n",
       "    </tr>\n",
       "    <tr>\n",
       "      <th>17</th>\n",
       "      <td>7</td>\n",
       "      <td>8</td>\n",
       "    </tr>\n",
       "    <tr>\n",
       "      <th>18</th>\n",
       "      <td>8</td>\n",
       "      <td>9</td>\n",
       "    </tr>\n",
       "    <tr>\n",
       "      <th>19</th>\n",
       "      <td>9</td>\n",
       "      <td>10</td>\n",
       "    </tr>\n",
       "  </tbody>\n",
       "</table>\n",
       "</div>"
      ],
      "text/plain": [
       "    label  label\n",
       "0       0      1\n",
       "1       1      2\n",
       "2       2      3\n",
       "3       3      4\n",
       "4       4      5\n",
       "5       5      6\n",
       "6       6      7\n",
       "7       7      8\n",
       "8       8      9\n",
       "9       9     10\n",
       "10      0      1\n",
       "11      1      2\n",
       "12      2      3\n",
       "13      3      4\n",
       "14      4      5\n",
       "15      5      6\n",
       "16      6      7\n",
       "17      7      8\n",
       "18      8      9\n",
       "19      9     10"
      ]
     },
     "execution_count": 26,
     "metadata": {},
     "output_type": "execute_result"
    }
   ],
   "source": [
    "pd.concat([labels_test,labels_test+1], axis = 1)"
   ]
  },
  {
   "cell_type": "code",
   "execution_count": 24,
   "id": "4a247b12",
   "metadata": {},
   "outputs": [
    {
     "ename": "NameError",
     "evalue": "name 'pixels_marreta' is not defined",
     "output_type": "error",
     "traceback": [
      "\u001b[1;31m---------------------------------------------------------------------------\u001b[0m",
      "\u001b[1;31mNameError\u001b[0m                                 Traceback (most recent call last)",
      "\u001b[1;32m~\\AppData\\Local\\Temp/ipykernel_15224/676489211.py\u001b[0m in \u001b[0;36m<module>\u001b[1;34m\u001b[0m\n\u001b[0;32m      1\u001b[0m \u001b[1;32mimport\u001b[0m \u001b[0mmatplotlib\u001b[0m\u001b[1;33m.\u001b[0m\u001b[0mpyplot\u001b[0m \u001b[1;32mas\u001b[0m \u001b[0mplt\u001b[0m\u001b[1;33m\u001b[0m\u001b[1;33m\u001b[0m\u001b[0m\n\u001b[1;32m----> 2\u001b[1;33m \u001b[0mplt\u001b[0m\u001b[1;33m.\u001b[0m\u001b[0mimshow\u001b[0m\u001b[1;33m(\u001b[0m\u001b[0mpixels_marreta\u001b[0m\u001b[1;33m)\u001b[0m\u001b[1;33m\u001b[0m\u001b[1;33m\u001b[0m\u001b[0m\n\u001b[0m\u001b[0;32m      3\u001b[0m \u001b[0mplt\u001b[0m\u001b[1;33m.\u001b[0m\u001b[0mshow\u001b[0m\u001b[1;33m(\u001b[0m\u001b[1;33m)\u001b[0m\u001b[1;33m\u001b[0m\u001b[1;33m\u001b[0m\u001b[0m\n",
      "\u001b[1;31mNameError\u001b[0m: name 'pixels_marreta' is not defined"
     ]
    }
   ],
   "source": [
    "import matplotlib.pyplot as plt\n",
    "plt.imshow(pixels_marreta)\n",
    "plt.show()"
   ]
  },
  {
   "cell_type": "code",
   "execution_count": 63,
   "id": "8c9ee69d",
   "metadata": {},
   "outputs": [
    {
     "data": {
      "text/plain": [
       "(28, 28)"
      ]
     },
     "execution_count": 63,
     "metadata": {},
     "output_type": "execute_result"
    }
   ],
   "source": [
    "example_digit = df.iloc[3]\n",
    "pixels_example = example_digit.values[1:]\n",
    "pixels_example = pixels_example.reshape((28,28))\n",
    "pixels_example.shape"
   ]
  },
  {
   "cell_type": "code",
   "execution_count": 90,
   "id": "4683ba15",
   "metadata": {},
   "outputs": [
    {
     "data": {
      "image/png": "[encoded data removed]",
      "text/plain": [
       "<Figure size 432x288 with 1 Axes>"
      ]
     },
     "metadata": {
      "needs_background": "light"
     },
     "output_type": "display_data"
    }
   ],
   "source": [
    "import matplotlib.pyplot as plt\n",
    "import matplotlib as mpl\n",
    "\n",
    "plt.imshow(pixels_example, cmap = mpl.cm.binary)\n",
    "plt.show()"
   ]
  },
  {
   "cell_type": "code",
   "execution_count": 43,
   "id": "d6078447",
   "metadata": {},
   "outputs": [
    {
     "data": {
      "text/plain": [
       "array([  0,   0,   0,   0,   0,   0,   0,   0,   0,   0,   0,   0,   0,\n",
       "         0,   0,   0,   0,   0,   0,   0,   0,   0,   0,   0,   0,   0,\n",
       "         0,   0,   0,   0,   0,   0,   0,   0,   0,   0,   0,   0,   0,\n",
       "         0,   0,   0,   0,   0,   0,   0,   0,   0,   0,   0,   0,   0,\n",
       "         0,   0,   0,   0,   0,   0,   0,   0,   0,   0,   0,   0,   0,\n",
       "         0,   0,   0,   0,   0,   0,   0,   0,   0,   0,   0,   0,   0,\n",
       "         0,   0,   0,   0,   0,   0,   0,   0,   0,   0,   0,   0,   0,\n",
       "         0,   0,   0,   0,   0,   0,   0,   0,   0,   0,   0,   0,   0,\n",
       "         0,   0,   0,   0,   0,   0,   0,   0,   0,   0,   0,   0,   0,\n",
       "         0,   0,   0,   0,   0,  18,  30, 137, 137, 192,  86,  72,   1,\n",
       "         0,   0,   0,   0,   0,   0,   0,   0,   0,   0,   0,   0,   0,\n",
       "         0,   0,   0,   0,   0,  13,  86, 250, 254, 254, 254, 254, 217,\n",
       "       246, 151,  32,   0,   0,   0,   0,   0,   0,   0,   0,   0,   0,\n",
       "         0,   0,   0,   0,   0,   0,  16, 179, 254, 254, 254, 254, 254,\n",
       "       254, 254, 254, 254, 231,  54,  15,   0,   0,   0,   0,   0,   0,\n",
       "         0,   0,   0,   0,   0,   0,   0,   0,  72, 254, 254, 254, 254,\n",
       "       254, 254, 254, 254, 254, 254, 254, 254, 104,   0,   0,   0,   0,\n",
       "         0,   0,   0,   0,   0,   0,   0,   0,   0,  61, 191, 254, 254,\n",
       "       254, 254, 254, 109,  83, 199, 254, 254, 254, 254, 243,  85,   0,\n",
       "         0,   0,   0,   0,   0,   0,   0,   0,   0,   0,   0, 172, 254,\n",
       "       254, 254, 202, 147, 147,  45,   0,  11,  29, 200, 254, 254, 254,\n",
       "       171,   0,   0,   0,   0,   0,   0,   0,   0,   0,   0,   0,   1,\n",
       "       174, 254, 254,  89,  67,   0,   0,   0,   0,   0,   0, 128, 252,\n",
       "       254, 254, 212,  76,   0,   0,   0,   0,   0,   0,   0,   0,   0,\n",
       "         0,  47, 254, 254, 254,  29,   0,   0,   0,   0,   0,   0,   0,\n",
       "         0,  83, 254, 254, 254, 153,   0,   0,   0,   0,   0,   0,   0,\n",
       "         0,   0,   0,  80, 254, 254, 240,  24,   0,   0,   0,   0,   0,\n",
       "         0,   0,   0,  25, 240, 254, 254, 153,   0,   0,   0,   0,   0,\n",
       "         0,   0,   0,   0,   0,  64, 254, 254, 186,   7,   0,   0,   0,\n",
       "         0,   0,   0,   0,   0,   0, 166, 254, 254, 224,  12,   0,   0,\n",
       "         0,   0,   0,   0,   0,   0,  14, 232, 254, 254, 254,  29,   0,\n",
       "         0,   0,   0,   0,   0,   0,   0,   0,  75, 254, 254, 254,  17,\n",
       "         0,   0,   0,   0,   0,   0,   0,   0,  18, 254, 254, 254, 254,\n",
       "        29,   0,   0,   0,   0,   0,   0,   0,   0,   0,  48, 254, 254,\n",
       "       254,  17,   0,   0,   0,   0,   0,   0,   0,   0,   2, 163, 254,\n",
       "       254, 254,  29,   0,   0,   0,   0,   0,   0,   0,   0,   0,  48,\n",
       "       254, 254, 254,  17,   0,   0,   0,   0,   0,   0,   0,   0,   0,\n",
       "        94, 254, 254, 254, 200,  12,   0,   0,   0,   0,   0,   0,   0,\n",
       "        16, 209, 254, 254, 150,   1,   0,   0,   0,   0,   0,   0,   0,\n",
       "         0,   0,  15, 206, 254, 254, 254, 202,  66,   0,   0,   0,   0,\n",
       "         0,  21, 161, 254, 254, 245,  31,   0,   0,   0,   0,   0,   0,\n",
       "         0,   0,   0,   0,   0,  60, 212, 254, 254, 254, 194,  48,  48,\n",
       "        34,  41,  48, 209, 254, 254, 254, 171,   0,   0,   0,   0,   0,\n",
       "         0,   0,   0,   0,   0,   0,   0,   0,  86, 243, 254, 254, 254,\n",
       "       254, 254, 233, 243, 254, 254, 254, 254, 254,  86,   0,   0,   0,\n",
       "         0,   0,   0,   0,   0,   0,   0,   0,   0,   0,   0, 114, 254,\n",
       "       254, 254, 254, 254, 254, 254, 254, 254, 254, 239,  86,  11,   0,\n",
       "         0,   0,   0,   0,   0,   0,   0,   0,   0,   0,   0,   0,   0,\n",
       "        13, 182, 254, 254, 254, 254, 254, 254, 254, 254, 243,  70,   0,\n",
       "         0,   0,   0,   0,   0,   0,   0,   0,   0,   0,   0,   0,   0,\n",
       "         0,   0,   0,   8,  76, 146, 254, 255, 254, 255, 146,  19,  15,\n",
       "         0,   0,   0,   0,   0,   0,   0,   0,   0,   0,   0,   0,   0,\n",
       "         0,   0,   0,   0,   0,   0,   0,   0,   0,   0,   0,   0,   0,\n",
       "         0,   0,   0,   0,   0,   0,   0,   0,   0,   0,   0,   0,   0,\n",
       "         0,   0,   0,   0,   0,   0,   0,   0,   0,   0,   0,   0,   0,\n",
       "         0,   0,   0,   0,   0,   0,   0,   0,   0,   0,   0,   0,   0,\n",
       "         0,   0,   0,   0,   0,   0,   0,   0,   0,   0,   0,   0,   0,\n",
       "         0,   0,   0,   0,   0,   0,   0,   0,   0,   0,   0,   0,   0,\n",
       "         0,   0,   0,   0,   0,   0,   0,   0,   0,   0,   0,   0,   0,\n",
       "         0,   0,   0,   0,   0,   0,   0,   0,   0,   0,   0,   0,   0,\n",
       "         0,   0,   0,   0], dtype=int64)"
      ]
     },
     "execution_count": 43,
     "metadata": {},
     "output_type": "execute_result"
    }
   ],
   "source": [
    "X[1]"
   ]
  },
  {
   "cell_type": "code",
   "execution_count": 45,
   "id": "24d1c2bb",
   "metadata": {},
   "outputs": [
    {
     "data": {
      "text/plain": [
       "array([[167, 166, 167, 167, 166, 167, 167, 168, 168, 169, 169, 168, 168,\n",
       "        167, 167, 168, 166, 166, 166, 165, 163, 163, 163, 163, 162, 161,\n",
       "        162, 161],\n",
       "       [165, 167, 167, 166, 166, 166, 166, 168, 167, 168, 168, 167, 168,\n",
       "        166, 166, 168, 165, 165, 166, 166, 164, 164, 163, 162, 161, 161,\n",
       "        161, 161],\n",
       "       [165, 167, 166, 168, 168, 168, 168, 167, 167, 168, 168, 167, 167,\n",
       "        168, 169, 166, 167, 165, 166, 166, 166, 165, 163, 164, 163, 162,\n",
       "        162, 162],\n",
       "       [167, 167, 166, 168, 167, 168, 168, 167, 167, 166, 166, 167, 167,\n",
       "        168, 169, 166, 166, 165, 166, 166, 166, 165, 164, 163, 163, 162,\n",
       "        162, 162],\n",
       "       [167, 167, 166, 168, 168, 167, 168, 166, 166, 167, 167, 166, 166,\n",
       "        167, 167, 165, 165, 166, 166, 166, 166, 165, 165, 163, 162, 163,\n",
       "        163, 163],\n",
       "       [166, 167, 166, 168, 168, 168, 167, 166, 166, 166, 166, 166, 167,\n",
       "        166, 166, 165, 165, 166, 166, 165, 165, 165, 165, 163, 162, 163,\n",
       "        163, 163],\n",
       "       [165, 167, 166, 168, 168, 168, 165, 165, 165, 165, 165, 168, 168,\n",
       "        163, 166, 171, 169, 165, 164, 163, 163, 162, 162, 163, 163, 163,\n",
       "        163, 163],\n",
       "       [166, 167, 167, 168, 168, 167, 165, 166, 166, 166, 169, 166, 150,\n",
       "        107,  86, 100, 132, 166, 165, 162, 162, 162, 162, 162, 162, 163,\n",
       "        163, 163],\n",
       "       [166, 168, 167, 168, 168, 167, 165, 165, 165, 171, 158, 104, 111,\n",
       "        129, 154, 137,  88, 102, 146, 161, 160, 161, 161, 162, 161, 163,\n",
       "        162, 162],\n",
       "       [167, 168, 168, 168, 165, 166, 166, 165, 173, 134, 102, 158, 169,\n",
       "        170, 169, 171, 162,  94, 135, 155, 161, 160, 160, 161, 162, 163,\n",
       "        163, 163],\n",
       "       [168, 167, 167, 168, 165, 165, 166, 174, 118, 122, 164, 169, 165,\n",
       "        166, 166, 166, 173, 115, 118, 167, 160, 161, 160, 161, 163, 165,\n",
       "        164, 164],\n",
       "       [168, 168, 168, 166, 167, 165, 171, 137, 115, 173, 167, 168, 165,\n",
       "        165, 165, 165, 167, 163,  91, 157, 163, 161, 163, 163, 165, 166,\n",
       "        166, 166],\n",
       "       [168, 167, 167, 166, 167, 168, 164,  92, 169, 166, 167, 167, 165,\n",
       "        166, 166, 165, 166, 171, 126, 120, 167, 162, 164, 165, 166, 165,\n",
       "        166, 166],\n",
       "       [168, 166, 166, 167, 166, 171, 143, 108, 173, 166, 165, 165, 166,\n",
       "        165, 165, 164, 166, 166, 151, 104, 168, 164, 164, 165, 165, 165,\n",
       "        167, 166],\n",
       "       [167, 166, 167, 167, 167, 168, 155, 102, 174, 165, 165, 166, 166,\n",
       "        164, 164, 165, 164, 164, 165, 100, 166, 163, 164, 165, 165, 166,\n",
       "        166, 165],\n",
       "       [166, 167, 167, 167, 167, 167, 172, 102, 152, 168, 165, 164, 164,\n",
       "        163, 163, 165, 164, 166, 160,  98, 167, 163, 164, 165, 164, 165,\n",
       "        165, 164],\n",
       "       [167, 167, 167, 167, 167, 167, 169, 146,  90, 165, 165, 163, 164,\n",
       "        162, 165, 165, 164, 169, 140, 110, 168, 162, 163, 164, 164, 164,\n",
       "        164, 165],\n",
       "       [166, 166, 166, 166, 167, 167, 165, 172, 126, 101, 166, 167, 164,\n",
       "        162, 165, 165, 165, 170, 106, 143, 164, 162, 162, 161, 162, 164,\n",
       "        163, 165],\n",
       "       [168, 168, 168, 168, 167, 165, 165, 166, 171, 128,  92, 141, 168,\n",
       "        167, 166, 164, 173, 149,  94, 167, 162, 161, 162, 160, 161, 164,\n",
       "        165, 165],\n",
       "       [168, 168, 168, 168, 166, 166, 166, 165, 166, 168, 151, 107, 100,\n",
       "        132, 154, 157, 138,  92, 151, 166, 163, 161, 161, 160, 161, 164,\n",
       "        164, 165],\n",
       "       [167, 167, 168, 168, 166, 167, 167, 165, 166, 165, 167, 171, 159,\n",
       "        132, 114, 114, 115, 154, 166, 164, 164, 163, 162, 162, 162, 164,\n",
       "        163, 165],\n",
       "       [168, 168, 167, 168, 167, 166, 167, 165, 166, 165, 165, 166, 168,\n",
       "        169, 170, 171, 170, 167, 165, 164, 164, 164, 163, 163, 164, 164,\n",
       "        164, 165],\n",
       "       [169, 169, 167, 169, 169, 166, 167, 165, 166, 166, 166, 166, 165,\n",
       "        167, 165, 165, 165, 165, 165, 164, 165, 163, 163, 163, 165, 165,\n",
       "        165, 165],\n",
       "       [169, 169, 168, 169, 169, 167, 167, 167, 165, 166, 166, 166, 165,\n",
       "        166, 166, 166, 166, 164, 163, 162, 162, 164, 164, 163, 166, 166,\n",
       "        166, 166],\n",
       "       [169, 169, 169, 169, 169, 167, 168, 168, 165, 165, 165, 165, 165,\n",
       "        165, 166, 166, 166, 165, 165, 163, 163, 165, 164, 165, 166, 165,\n",
       "        165, 165],\n",
       "       [169, 166, 167, 167, 166, 168, 168, 166, 166, 166, 166, 167, 167,\n",
       "        166, 166, 165, 165, 166, 165, 164, 164, 165, 165, 167, 167, 166,\n",
       "        167, 165],\n",
       "       [169, 166, 166, 166, 166, 168, 168, 166, 167, 167, 167, 166, 167,\n",
       "        164, 164, 164, 164, 164, 164, 165, 165, 167, 166, 167, 167, 167,\n",
       "        167, 165],\n",
       "       [169, 168, 165, 165, 167, 168, 168, 166, 167, 167, 167, 165, 165,\n",
       "        165, 165, 165, 165, 166, 166, 166, 166, 167, 167, 167, 167, 167,\n",
       "        167, 165]], dtype=uint8)"
      ]
     },
     "execution_count": 45,
     "metadata": {},
     "output_type": "execute_result"
    }
   ],
   "source": [
    "zero"
   ]
  },
  {
   "cell_type": "code",
   "execution_count": null,
   "id": "325f91eb",
   "metadata": {},
   "outputs": [],
   "source": []
  }
 ],
 "metadata": {
  "kernelspec": {
   "display_name": "Python 3 (ipykernel)",
   "language": "python",
   "name": "python3"
  },
  "language_info": {
   "codemirror_mode": {
    "name": "ipython",
    "version": 3
   },
   "file_extension": ".py",
   "mimetype": "text/x-python",
   "name": "python",
   "nbconvert_exporter": "python",
   "pygments_lexer": "ipython3",
   "version": "3.9.7"
  }
 },
 "nbformat": 4,
 "nbformat_minor": 5
}
